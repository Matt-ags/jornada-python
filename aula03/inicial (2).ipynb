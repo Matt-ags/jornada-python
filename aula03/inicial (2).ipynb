{
 "cells": [
  {
   "cell_type": "markdown",
   "metadata": {},
   "source": [
    "# Projeto Python IA: Inteligência Artificial e Previsões\n",
    "\n",
    "### Case: Score de Crédito dos Clientes\n",
    "\n",
    "Você foi contratado por um banco para conseguir definir o score de crédito dos clientes. Você precisa analisar todos os clientes do banco e, com base nessa análise, criar um modelo que consiga ler as informações do cliente e dizer automaticamente o score de crédito dele: Ruim, Ok, Bom\n",
    "\n",
    "Arquivos da aula: https://drive.google.com/drive/folders/1FbDqVq4XLvU85VBlVIMJ73p9oOu6u2-J?usp=drive_link"
   ]
  },
  {
   "cell_type": "code",
   "execution_count": null,
   "metadata": {},
   "outputs": [],
   "source": [
    "# PASSO A PASSO \" de uma ia\"\n",
    "\n",
    "# Passo 0 -> Entenda a empresa e o desafio da empresa, o objetivo do projeto, alem do contexto. Imagine, 90% de precisção em nosso caso, é muito bom, mas imagine se fosse pra uma ia de um \"remédio\"? já não seria tão bom assim. Então, entenda o contexto.\n",
    "\n",
    "# Passo 1 -> Importe a base de dados\n",
    "import pandas as pd\n",
    "\n",
    "tabela = pd.read_csv(\"clientes.csv\")\n",
    "\n",
    "display(tabela)\n"
   ]
  },
  {
   "cell_type": "code",
   "execution_count": null,
   "metadata": {},
   "outputs": [],
   "source": [
    "# Passo 2 -> Preparar a base de dados para a inteligencia artificial, (ela aceita meio que um modelo especifico, oura coisa, a ia aprende com baseno \"histórico antigo\", tipo, aquele cliente x com tais caracteristicas, tem score tal)\n",
    "\n",
    "display(tabela.info())\n",
    "# Percebemos que a tabela já esta tratada, tudo ok\n",
    "\n",
    "# No processo de aprendizado, a ia não trabalha com textos\n",
    "\n",
    "# label encoder -> transforma os textos em numeros\n",
    "# colunas: profissao, mix_credito, comportamento_pagamento\n",
    "\n",
    "# Por exemplo, na de profissao, vamos ter dentista, mecanico, artista, engenheiro, etc. O label encoder, vai transformar dentista em 1, mecanico, em 2, por assim em diante!\n",
    "\n",
    "# importando label encoder:\n",
    "from sklearn.preprocessing import LabelEncoder # um adendo, usamos esse formato de \"from tanana import tanana\" pra não escrever muito, assim já pegamos a função!\n",
    "\n",
    "# profissao:\n",
    "codificador_profissao = LabelEncoder()\n",
    "tabela[\"profissao\"] = codificador_profissao.fit_transform(tabela[\"profissao\"]) # fit_transform -> transforma os textos em numeros\n",
    "# ele encaixa os valores \"novos\" com os codificados\n",
    "\n",
    "# mix_credito:\n",
    "codificador_credito = LabelEncoder()\n",
    "tabela[\"mix_credito\"] = codificador_credito.fit_transform(tabela[\"mix_credito\"])\n",
    "\n",
    "# comportamento_pagamento:\n",
    "codificador_pagamento = LabelEncoder()\n",
    "tabela[\"comportamento_pagamento\"] = codificador_pagamento.fit_transform(tabela[\"comportamento_pagamento\"])\n",
    "\n",
    "# deixamos as funções separados, pos os numeros gerados teram significados diferentes em cada coluna\n",
    "\n",
    "display(tabela.info())\n",
    "# lembrando que o score credito ainda esta como objeto, pois é o que iremos trabalhar futuramente"
   ]
  },
  {
   "cell_type": "code",
   "execution_count": 18,
   "metadata": {},
   "outputs": [],
   "source": [
    "# Y -> A COLUNA DA BASE DE DADOS QUE EU QUERO CHEGAR, NO CASO, O SCORE CREDITO\n",
    "y = tabela[\"score_credito\"]\n",
    "# x -> AS COLUNAS QUE EU VOU USAR PRA CHEGAR NO Y\n",
    "# IMPORTANTE -> TEMOS COLUNAS QUE NÃO VAI NOS AJUDAR, VÃO ATÉ ATRAPALHAR, COMO A ID CLIENTE!\n",
    "x = tabela.drop(columns=[\"score_credito\", \"id_cliente\"]) # drop é para \"jogar fora\"/ todas as colunas menos a score credito!\n",
    "\n",
    "# separar em dados de treino e dados de teste\n",
    "from sklearn.model_selection import train_test_split\n",
    "\n",
    "x_treino, x_teste, y_treino, y_teste = train_test_split(x, y, test_size=0.3) # o que importa aqui é a ordem!\n",
    "\n"
   ]
  },
  {
   "cell_type": "code",
   "execution_count": null,
   "metadata": {},
   "outputs": [],
   "source": [
    "# Passo 3 -> Treinar a IA -> Criar o modelo\n",
    "# Importar a IA\n",
    "# Vamos usar dois modelos (duas ias), pra que no final, comparamos elas e vemod qual a melhor\n",
    "# Modelos:\n",
    "\n",
    "# Arvore de decisão -> Randomforest\n",
    "# Vizinhos mais próximos -> KNN -> K-Nearest Neighbors\n",
    "from sklearn.ensemble import RandomForestRegressor\n",
    "from sklearn.neighbors import KNeighborsRegressor\n",
    "\n",
    "# Criar a IA\n",
    "modelo_arvore = RandomForestRegressor()\n",
    "modelo_knn = KNeighborsRegressor()\n",
    "\n",
    "# Treinar a IA\n",
    "# modelo_arvore.fit(x_treino, y_treino) # x_treino -> as caracteristicas dos clientes, y_treino -> o score credito -> o fit é de treino mesmo\n",
    "# modelo da arvore não esta funcionando, o knn esta de bora, verificar depois\n",
    "modelo_knn.fit(x_treino, y_treino)\n",
    "\n",
    "\n"
   ]
  },
  {
   "cell_type": "code",
   "execution_count": null,
   "metadata": {},
   "outputs": [],
   "source": [
    "# Passo 4 -> Avaliar o modelo (qual é o melhor?)\n",
    "# previsao_arvore = modelo_arvore.predict(x_teste)\n",
    "previsao_knn = modelo_knn.predict(x_teste)\n",
    "\n",
    "# acurácia -> precisão!\n",
    "from sklearn.metrics import accuracy_score # vai calcular a precisão\n",
    "display(accuracy_score(y_teste, previsao_knn)) # y_teste -> o que era pra ser, previsao_knn -> o que a ia previu\n",
    "\n",
    "# A LÓGICA ENTENDI, MAS NÃO ESTA RODANDO, PC TA COMPLICADO, TALVEZ NUM FUTURO TENTO ARRUAR?\n"
   ]
  },
  {
   "cell_type": "code",
   "execution_count": 6,
   "metadata": {},
   "outputs": [],
   "source": [
    "\n",
    "# Passo 5 -> Usar o melhor modelo para fazer previsões\n",
    "# segundo a aula, o melhor modelo é o da arvore de decisão\n",
    "\n",
    "# importar os novos clientes para a previsão\n",
    "\n",
    "tabela_novos_clientes = pd.read_csv(\"novos_clientes.csv\")\n",
    "\n",
    "# vamos arruar os textos:\n",
    "# lembra que nossas codifiçãoções já estavam feitas! dai era só colocar!\n",
    "\n",
    "# profissao:\n",
    "codificador_profissao = LabelEncoder()\n",
    "tabela_novos_clientes[\"profissao\"] = codificador_profissao.transform(tabela_novos_clientes[\"profissao\"]) # fit_transform -> transforma os textos em numeros\n",
    "# ele encaixa os valores \"novos\" com os codificados\n",
    "\n",
    "# mix_credito:\n",
    "codificador_credito = LabelEncoder()\n",
    "tabela_novos_clientes[\"mix_credito\"] = codificador_credito.transform(tabela_novos_clientes[\"mix_credito\"])\n",
    "\n",
    "# comportamento_pagamento:\n",
    "codificador_pagamento = LabelEncoder()\n",
    "tabela_novos_clientes[\"comportamento_pagamento\"] = codificador_pagamento.transform(tabela_novos_clientes[\"comportamento_pagamento\"])\n",
    "\n",
    "# transform é para \"trocar\"\n",
    "\n",
    "nova_previsao = modelo_arvore.predict(tabela_novos_clientes)\n",
    "display(nova_previsao)\n",
    "\n"
   ]
  }
 ],
 "metadata": {
  "kernelspec": {
   "display_name": "Python 3",
   "language": "python",
   "name": "python3"
  },
  "language_info": {
   "codemirror_mode": {
    "name": "ipython",
    "version": 3
   },
   "file_extension": ".py",
   "mimetype": "text/x-python",
   "name": "python",
   "nbconvert_exporter": "python",
   "pygments_lexer": "ipython3",
   "version": "3.13.0"
  },
  "orig_nbformat": 4
 },
 "nbformat": 4,
 "nbformat_minor": 2
}
