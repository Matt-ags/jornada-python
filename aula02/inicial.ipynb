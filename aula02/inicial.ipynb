{
 "cells": [
  {
   "cell_type": "markdown",
   "metadata": {},
   "source": [
    "# Python Insights - Analisando Dados com Python\n",
    "\n",
    "### Case - Cancelamento de Clientes\n",
    "\n",
    "Você foi contratado por uma empresa com mais de 800 mil clientes para um projeto de Dados. Recentemente a empresa percebeu que da sua base total de clientes, a maioria são clientes inativos, ou seja, que já cancelaram o serviço.\n",
    "\n",
    "Precisando melhorar seus resultados ela quer conseguir entender os principais motivos desses cancelamentos e quais as ações mais eficientes para reduzir esse número.\n",
    "\n",
    "Base de dados e arquivos: https://drive.google.com/drive/folders/1uDesZePdkhiraJmiyeZ-w5tfc8XsNYFZ?usp=drive_link"
   ]
  },
  {
   "cell_type": "code",
   "execution_count": null,
   "metadata": {},
   "outputs": [],
   "source": [
    "# Passo 01 - Importar a base de dados\n",
    "\n",
    "import pandas as pd\n",
    "\n",
    "tabela = pd.read_csv(\"cancelamentos_sample.csv\")\n",
    "\n",
    "# Passo 02 - Visualizar e limpar a base de dados\n",
    "\n",
    "tabela = tabela.drop(columns=\"CustomerID\")\n",
    "display(tabela)\n",
    "\n",
    "# Passo 03 - Tratar a base de dados\n",
    "\n",
    "display(tabela.info())\n",
    "\n",
    "tabela = tabela.dropna()\n",
    "\n",
    "display(tabela.info())\n",
    "\n",
    "# Passo 04 - Análise inicial de cancelamentos\n",
    "\n",
    "display(tabela[\"cancelou\"].value_counts())\n",
    "display(tabela[\"cancelou\"].value_counts(normalize=True))\n",
    "\n",
    "# Passo 05 - Analisar causas de cancelamento\n",
    "\n",
    "import plotly.express as px\n",
    "\n",
    "for coluna in tabela.columns:\n",
    "    grafico = px.histogram(tabela, x=coluna, color=\"cancelou\", text_auto=True)\n",
    "    grafico.show()\n",
    "\n",
    "# Solucionando o problema do cancelamento\n",
    "\n",
    "tabela = tabela[tabela[\"duracao_contrato\"] != \"Monthly\"]\n",
    "tabela = tabela[tabela[\"ligacoes_callcenter\"] <= 4]\n",
    "tabela = tabela[tabela[\"dias_atraso\"] <= 20]\n",
    "\n",
    "display(tabela[\"cancelou\"].value_counts())\n",
    "display(tabela[\"cancelou\"].value_counts(normalize=True))\n",
    "\n",
    "# Usuários do contrato mensal sempre cancelam\n",
    "#   Uma solução: Evitar o contrato mensal, e **incentivar** (com desconto), os outros contratos (menos cancelamentos)\n",
    "\n",
    "# Todos os usuários que ligaram mais de **4 vezes** pro callcenter, cancelaram o serviço\n",
    "#     -> Talvez um processo que ao ligar 3 vezes, \"ligar\" um alerta vermelho!\n",
    "\n",
    "# Usuários que atrasaram o pagamento mais de **20 dias**, cancelaram.\n",
    "#     -> Criar um alerta quando o atraso do pagamento bater 15 dias, **entrar em contato**\n",
    "\n",
    "# SOLUCIONANDO TODOS OS PROBLEMAS, NOSSOS CLIENTES QUE CANCELARAM VÃO CAIR DE **56%** PARA **18%**"
   ]
  }
 ],
 "metadata": {
  "kernelspec": {
   "display_name": "Python 3",
   "language": "python",
   "name": "python3"
  },
  "language_info": {
   "codemirror_mode": {
    "name": "ipython",
    "version": 3
   },
   "file_extension": ".py",
   "mimetype": "text/x-python",
   "name": "python",
   "nbconvert_exporter": "python",
   "pygments_lexer": "ipython3",
   "version": "3.13.0"
  },
  "orig_nbformat": 4
 },
 "nbformat": 4,
 "nbformat_minor": 2
}
